{
 "cells": [
  {
   "cell_type": "markdown",
   "metadata": {},
   "source": [
    "# Welcome to Jupyter Notebooks and Python!"
   ]
  },
  {
   "cell_type": "markdown",
   "metadata": {},
   "source": [
    "Jupyter notebooks (formerly IPython Notebooks) are frameworks to write reports, prototype code, and make presentations. Jupyter can run different kernels (i.e. programming languages) like C++, Julia, R, etc. For the rest of this tutorial, we focus on using Python 3.6.*"
   ]
  },
  {
   "cell_type": "markdown",
   "metadata": {},
   "source": [
    "Jupyter notebooks can also be used to typeset $\\LaTeX$, as below\n",
    "\n",
    "$$f(x) = \\sum\\limits^{\\infty}_{n=0} a_n (x - b)^n.$$\n",
    "\n",
    "You can also make presentations on your group's research progress in Jupyter notebooks. "
   ]
  },
  {
   "cell_type": "markdown",
   "metadata": {},
   "source": [
    "## Best practices"
   ]
  },
  {
   "cell_type": "markdown",
   "metadata": {},
   "source": [
    "1) For coding environments, provide detailed comments for interpretability and reproducibility. This will also help the future you when you come back to past assignments/code.\n",
    "\n",
    "2) Read the error message when your code does not work. They contain important information on how to debug your code.\n",
    "\n",
    "3) If you do something more than twice, automate that action.\n",
    "\n",
    "4) Write code that works first, then optimize! \n",
    "\n",
    "5) Notebooks can be split if they get too long. You want to be able to come back to a notebook without too much trouble and searching."
   ]
  },
  {
   "cell_type": "markdown",
   "metadata": {},
   "source": [
    "## Overview"
   ]
  },
  {
   "cell_type": "markdown",
   "metadata": {},
   "source": [
    "Python is a dynamic, interpreted language. Variables do not need to be declared and the code does not need to be compiled. In short, the Python interpreter will attempt to make sense of your code and will raise an error if something goes wrong.\n",
    "\n",
    "In Python, comments in code start with a #. In Jupyter notebooks, you also have the option of making it cell a Markdown cell.\n",
    "\n",
    "Below, try making 1) a comment cell and 2) a Markdown cell."
   ]
  },
  {
   "cell_type": "code",
   "execution_count": 1,
   "metadata": {},
   "outputs": [],
   "source": [
    "# this is my first comment."
   ]
  },
  {
   "cell_type": "markdown",
   "metadata": {},
   "source": [
    "This is my first Markdown cell."
   ]
  },
  {
   "cell_type": "markdown",
   "metadata": {},
   "source": [
    "Now make a Markdown cell with some $\\LaTeX$ code!"
   ]
  },
  {
   "cell_type": "markdown",
   "metadata": {},
   "source": [
    "My favorite function is $f(x) = \\int x^2 dx$."
   ]
  },
  {
   "cell_type": "markdown",
   "metadata": {},
   "source": [
    "## Checking Python kernel"
   ]
  },
  {
   "cell_type": "markdown",
   "metadata": {},
   "source": [
    "Python incorporates the use of modules (or libraries) to access certain functions and tools. We will begin by checking which version of Python we are running. "
   ]
  },
  {
   "cell_type": "code",
   "execution_count": 2,
   "metadata": {},
   "outputs": [
    {
     "data": {
      "text/plain": [
       "'3.6.5 |Anaconda custom (64-bit)| (default, Apr 26 2018, 08:42:37) \\n[GCC 4.2.1 Compatible Clang 4.0.1 (tags/RELEASE_401/final)]'"
      ]
     },
     "execution_count": 2,
     "metadata": {},
     "output_type": "execute_result"
    }
   ],
   "source": [
    "# How do I know which version of python I am running?\n",
    "# First, we import sys. This is a library that lets you query/ask system version information.\n",
    "#\n",
    "# **If collaborating on a project, it is crucial to use the same version number of a particular\n",
    "# programming language.\n",
    "\n",
    "import sys\n",
    "sys.version"
   ]
  },
  {
   "cell_type": "code",
   "execution_count": 3,
   "metadata": {},
   "outputs": [],
   "source": [
    "# Note that we should see 3.6.* as the version of python. \n",
    "# This is followed by the Anaconda version."
   ]
  },
  {
   "cell_type": "markdown",
   "metadata": {},
   "source": [
    "Next, we will explore how to see help menu for functions. There are some functions available already built in. Some of these include\n",
    "\n",
    "1) abs( ) - returns the absolute value \n",
    "\n",
    "2) round( ) - rounds the number to the nearest integer \n",
    "\n",
    "3) bin( ) - converts the number into binary\n",
    "\n",
    "4) print( ) - prints given object to screen\n",
    "\n",
    "5) help( ) - provides help for functions"
   ]
  },
  {
   "cell_type": "code",
   "execution_count": 4,
   "metadata": {},
   "outputs": [
    {
     "name": "stdout",
     "output_type": "stream",
     "text": [
      "Help on built-in function abs in module builtins:\n",
      "\n",
      "abs(x, /)\n",
      "    Return the absolute value of the argument.\n",
      "\n"
     ]
    }
   ],
   "source": [
    "help(abs)"
   ]
  },
  {
   "cell_type": "code",
   "execution_count": 5,
   "metadata": {},
   "outputs": [
    {
     "data": {
      "text/plain": [
       "'0b1100100'"
      ]
     },
     "execution_count": 5,
     "metadata": {},
     "output_type": "execute_result"
    }
   ],
   "source": [
    "# Let us use 1-3 below as an example\n",
    "abs(-100)\n",
    "round(-100.1)\n",
    "bin(100)"
   ]
  },
  {
   "cell_type": "markdown",
   "metadata": {},
   "source": [
    "Notice the output printed to the screen. We can use the $\\verb+print()+$ function to address this issue below"
   ]
  },
  {
   "cell_type": "code",
   "execution_count": 6,
   "metadata": {
    "scrolled": true
   },
   "outputs": [
    {
     "name": "stdout",
     "output_type": "stream",
     "text": [
      "100\n",
      "-100\n",
      "0b1100100\n"
     ]
    }
   ],
   "source": [
    "print(abs(-100))\n",
    "print(round(-100.1))\n",
    "print(bin(100))"
   ]
  },
  {
   "cell_type": "code",
   "execution_count": 7,
   "metadata": {},
   "outputs": [
    {
     "data": {
      "text/plain": [
       "200"
      ]
     },
     "execution_count": 7,
     "metadata": {},
     "output_type": "execute_result"
    }
   ],
   "source": [
    "# NOTE: print(bin(100)) prints the value of bin(100) and\n",
    "# bin(100) prints the output of the function\n",
    "# Example\n",
    "\n",
    "abs(-100)+100 # works since it is the sum of 100 and 100."
   ]
  },
  {
   "cell_type": "markdown",
   "metadata": {},
   "source": [
    "What happens if you try $\\texttt{ print(abs(-100)) + 100}$?"
   ]
  },
  {
   "cell_type": "code",
   "execution_count": 8,
   "metadata": {},
   "outputs": [
    {
     "name": "stdout",
     "output_type": "stream",
     "text": [
      "100\n"
     ]
    },
    {
     "ename": "TypeError",
     "evalue": "unsupported operand type(s) for +: 'NoneType' and 'int'",
     "output_type": "error",
     "traceback": [
      "\u001b[0;31m---------------------------------------------------------------------------\u001b[0m",
      "\u001b[0;31mTypeError\u001b[0m                                 Traceback (most recent call last)",
      "\u001b[0;32m<ipython-input-8-1289d1ea513f>\u001b[0m in \u001b[0;36m<module>\u001b[0;34m()\u001b[0m\n\u001b[0;32m----> 1\u001b[0;31m \u001b[0mprint\u001b[0m\u001b[0;34m(\u001b[0m\u001b[0mabs\u001b[0m\u001b[0;34m(\u001b[0m\u001b[0;34m-\u001b[0m\u001b[0;36m100\u001b[0m\u001b[0;34m)\u001b[0m\u001b[0;34m)\u001b[0m \u001b[0;34m+\u001b[0m \u001b[0;36m100\u001b[0m\u001b[0;34m\u001b[0m\u001b[0m\n\u001b[0m",
      "\u001b[0;31mTypeError\u001b[0m: unsupported operand type(s) for +: 'NoneType' and 'int'"
     ]
    }
   ],
   "source": [
    "print(abs(-100)) + 100"
   ]
  },
  {
   "cell_type": "code",
   "execution_count": 9,
   "metadata": {},
   "outputs": [
    {
     "data": {
      "text/plain": [
       "int"
      ]
     },
     "execution_count": 9,
     "metadata": {},
     "output_type": "execute_result"
    }
   ],
   "source": [
    "type(100)"
   ]
  },
  {
   "cell_type": "code",
   "execution_count": 10,
   "metadata": {},
   "outputs": [
    {
     "name": "stdout",
     "output_type": "stream",
     "text": [
      "<class 'int'>\n",
      "<class 'float'>\n"
     ]
    }
   ],
   "source": [
    "# Data types. Use the function type() to investigate the type of the python object\n",
    "print(type(100))\n",
    "print(type(100.0))"
   ]
  },
  {
   "cell_type": "code",
   "execution_count": 11,
   "metadata": {},
   "outputs": [
    {
     "data": {
      "text/plain": [
       "200.0"
      ]
     },
     "execution_count": 11,
     "metadata": {},
     "output_type": "execute_result"
    }
   ],
   "source": [
    "100 + 100.0"
   ]
  },
  {
   "cell_type": "markdown",
   "metadata": {},
   "source": [
    "## Python Data Structures"
   ]
  },
  {
   "cell_type": "markdown",
   "metadata": {},
   "source": [
    "Variables and functions. \n",
    "\n",
    "Variables, just as in mathematics, are placeholders for values assigned to them. Functions, on the other hand, take input (like variables) and output the result of applying certain rules to the input."
   ]
  },
  {
   "cell_type": "code",
   "execution_count": 12,
   "metadata": {},
   "outputs": [
    {
     "data": {
      "text/plain": [
       "2"
      ]
     },
     "execution_count": 12,
     "metadata": {},
     "output_type": "execute_result"
    }
   ],
   "source": [
    "u = 2\n",
    "u"
   ]
  },
  {
   "cell_type": "code",
   "execution_count": 13,
   "metadata": {},
   "outputs": [],
   "source": [
    "# Define two variables and add them\n",
    "u = 2\n",
    "v = 1\n",
    "w = u+v"
   ]
  },
  {
   "cell_type": "code",
   "execution_count": 14,
   "metadata": {},
   "outputs": [
    {
     "name": "stdout",
     "output_type": "stream",
     "text": [
      "<class 'int'>\n"
     ]
    }
   ],
   "source": [
    "# Using variables as input to a function\n",
    "u = 100\n",
    "print(type(u))\n",
    "u = 100.0"
   ]
  },
  {
   "cell_type": "code",
   "execution_count": 15,
   "metadata": {},
   "outputs": [],
   "source": [
    "# Multiply two variables, and save as another variable\n",
    "a = 5\n",
    "b = 2\n",
    "c = a * b"
   ]
  },
  {
   "cell_type": "code",
   "execution_count": 16,
   "metadata": {},
   "outputs": [
    {
     "data": {
      "text/plain": [
       "25"
      ]
     },
     "execution_count": 16,
     "metadata": {},
     "output_type": "execute_result"
    }
   ],
   "source": [
    "# Raise one variable to the power of another variable\n",
    "a**b"
   ]
  },
  {
   "cell_type": "code",
   "execution_count": 17,
   "metadata": {},
   "outputs": [
    {
     "data": {
      "text/plain": [
       "65536"
      ]
     },
     "execution_count": 17,
     "metadata": {},
     "output_type": "execute_result"
    }
   ],
   "source": [
    "# What is 2 to the 16th power?\n",
    "2**16"
   ]
  },
  {
   "cell_type": "code",
   "execution_count": 18,
   "metadata": {},
   "outputs": [
    {
     "data": {
      "text/plain": [
       "3"
      ]
     },
     "execution_count": 18,
     "metadata": {},
     "output_type": "execute_result"
    }
   ],
   "source": [
    "# Divide two variables and output the remainder only \n",
    "a/b\n",
    "# (13 divided by 5 = 2 with 3 leftover)\n",
    "13%5"
   ]
  },
  {
   "cell_type": "code",
   "execution_count": 19,
   "metadata": {},
   "outputs": [
    {
     "data": {
      "text/plain": [
       "True"
      ]
     },
     "execution_count": 19,
     "metadata": {},
     "output_type": "execute_result"
    }
   ],
   "source": [
    "# Compare two variables\n",
    "# Is 3 greater than 4?\n",
    "3 == 4 # checks for equality \n",
    "3 >= 3 # checks for greater than or equal to"
   ]
  },
  {
   "cell_type": "markdown",
   "metadata": {},
   "source": [
    "Lists and strings.\n",
    "\n",
    "We now shift our focus to other data structures, lists and strings. Strings, lists, and tuples are all sequence types are ordered collection of objects. Lists are enclosed in square brackets ([ and ]) and tuples in parentheses (( and )).\n",
    "\n",
    "Lists are mutable (can be changed) and tuples are immutable (cannot be changed).\n",
    "\n",
    "** NOTE: Python is 0-indexed (unlike R), so keep this in mind when writing loops, accessing elements, etc."
   ]
  },
  {
   "cell_type": "code",
   "execution_count": 20,
   "metadata": {},
   "outputs": [],
   "source": [
    "a = \"mystring\""
   ]
  },
  {
   "cell_type": "code",
   "execution_count": 21,
   "metadata": {},
   "outputs": [
    {
     "name": "stdout",
     "output_type": "stream",
     "text": [
      "mystring\n"
     ]
    }
   ],
   "source": [
    "print(a)"
   ]
  },
  {
   "cell_type": "code",
   "execution_count": 22,
   "metadata": {},
   "outputs": [],
   "source": [
    "list_num = [1,2,3,4,5,6]\n",
    "tup_num = (1,2,3,4,5,6)\n",
    "# check the type of these data structures and explore their differences"
   ]
  },
  {
   "cell_type": "code",
   "execution_count": 23,
   "metadata": {},
   "outputs": [
    {
     "data": {
      "text/plain": [
       "[1, 2, 3, 4, 5, 6, 1, 2, 3, 4, 5, 6, 1, 2, 3, 4, 5, 6, 1, 2, 3, 4, 5, 6]"
      ]
     },
     "execution_count": 23,
     "metadata": {},
     "output_type": "execute_result"
    }
   ],
   "source": [
    "list_num * 4"
   ]
  },
  {
   "cell_type": "code",
   "execution_count": 24,
   "metadata": {},
   "outputs": [
    {
     "name": "stdout",
     "output_type": "stream",
     "text": [
      "The first fruit on the list is apples.\n"
     ]
    }
   ],
   "source": [
    "# let's make a list of fruits and print the first item in the list\n",
    "fruits = ['apples', 'bananas', 'oranges']\n",
    "fruits[1]\n",
    "print('The first fruit on the list is ' + fruits[0] + '.')"
   ]
  },
  {
   "cell_type": "code",
   "execution_count": 25,
   "metadata": {},
   "outputs": [
    {
     "name": "stdout",
     "output_type": "stream",
     "text": [
      "['apples', 'bananas', 'oranges', 'strawberries']\n",
      "4\n"
     ]
    }
   ],
   "source": [
    "# We can append to lists as\n",
    "#    list.append()\n",
    "# Next we will append to this list a new item\n",
    "fruits.append('strawberries')\n",
    "print(fruits)\n",
    "# Let's check the length of this list with the len() function\n",
    "print(len(fruits))\n",
    "# fruits.remove('strawberries') #removes strawberries from the list"
   ]
  },
  {
   "cell_type": "code",
   "execution_count": 26,
   "metadata": {},
   "outputs": [
    {
     "data": {
      "text/plain": [
       "'strawberries'"
      ]
     },
     "execution_count": 26,
     "metadata": {},
     "output_type": "execute_result"
    }
   ],
   "source": [
    "fruits[3]"
   ]
  },
  {
   "cell_type": "code",
   "execution_count": null,
   "metadata": {},
   "outputs": [],
   "source": []
  },
  {
   "cell_type": "code",
   "execution_count": 27,
   "metadata": {},
   "outputs": [
    {
     "data": {
      "text/plain": [
       "3.99"
      ]
     },
     "execution_count": 27,
     "metadata": {},
     "output_type": "execute_result"
    }
   ],
   "source": [
    "# let's make a tuple of prices\n",
    "prices = (3.99, 6.0, 10.00, 5.25)\n",
    "prices[0]"
   ]
  },
  {
   "cell_type": "markdown",
   "metadata": {},
   "source": [
    "Writing functions.\n",
    "\n",
    "Now that we have an idea of some of the data structures, we will use them\n",
    "as input into our own functions."
   ]
  },
  {
   "cell_type": "code",
   "execution_count": 28,
   "metadata": {},
   "outputs": [],
   "source": [
    "# Functions.\n",
    "# Functions have the following structure:\n",
    "#\n",
    "# def myfun(input):\n",
    "#    input operations\n",
    "#    return output\n",
    "#\n",
    "# Let's try to make one of our own"
   ]
  },
  {
   "cell_type": "code",
   "execution_count": 29,
   "metadata": {},
   "outputs": [],
   "source": [
    "#def sumfun(a,b):\n",
    "#    out = a + b\n",
    "#    return out\n",
    "# we can also write it as\n",
    "def sumfun(a,b):\n",
    "    return a+b"
   ]
  },
  {
   "cell_type": "code",
   "execution_count": 30,
   "metadata": {},
   "outputs": [
    {
     "data": {
      "text/plain": [
       "5"
      ]
     },
     "execution_count": 30,
     "metadata": {},
     "output_type": "execute_result"
    }
   ],
   "source": [
    "sumfun(1,4)"
   ]
  },
  {
   "cell_type": "code",
   "execution_count": 31,
   "metadata": {},
   "outputs": [],
   "source": [
    "# What happens when you try to run sumfun(a,b)?\n",
    "# We saw what happens."
   ]
  },
  {
   "cell_type": "code",
   "execution_count": 32,
   "metadata": {},
   "outputs": [],
   "source": [
    "# myname is a function that prints out \"Hello Mario\". This function does not take any inputs\n",
    "def myname():\n",
    "    print('Hello Mario!')"
   ]
  },
  {
   "cell_type": "code",
   "execution_count": 33,
   "metadata": {},
   "outputs": [
    {
     "name": "stdout",
     "output_type": "stream",
     "text": [
      "Hello Mario!\n"
     ]
    }
   ],
   "source": [
    "myname()"
   ]
  },
  {
   "cell_type": "code",
   "execution_count": 34,
   "metadata": {},
   "outputs": [],
   "source": [
    "# Let's make the function a little more universal, so anyone can put their name!"
   ]
  },
  {
   "cell_type": "code",
   "execution_count": 35,
   "metadata": {},
   "outputs": [],
   "source": [
    "def myhello(person):\n",
    "    print('Hello ' + person + '!')"
   ]
  },
  {
   "cell_type": "code",
   "execution_count": 36,
   "metadata": {},
   "outputs": [
    {
     "name": "stdout",
     "output_type": "stream",
     "text": [
      "Hello MSRI!\n"
     ]
    }
   ],
   "source": [
    "myhello('MSRI')"
   ]
  },
  {
   "cell_type": "markdown",
   "metadata": {},
   "source": [
    "Try the following exercises on your own:\n",
    "\n",
    "1) Write a function that takes two inputs (a and b) and outputs a^b + b.\n",
    "\n",
    "2) Write a function that takes no inputs and prints \"Your code has finished!\""
   ]
  },
  {
   "cell_type": "code",
   "execution_count": 37,
   "metadata": {},
   "outputs": [],
   "source": [
    "def myfun(a,b):\n",
    "    return a**b + b"
   ]
  },
  {
   "cell_type": "code",
   "execution_count": 38,
   "metadata": {},
   "outputs": [],
   "source": [
    "def probtwo():\n",
    "    print('Your code has finished!')"
   ]
  },
  {
   "cell_type": "code",
   "execution_count": 39,
   "metadata": {},
   "outputs": [
    {
     "name": "stdout",
     "output_type": "stream",
     "text": [
      "Your code has finished!\n"
     ]
    }
   ],
   "source": [
    "probtwo()"
   ]
  },
  {
   "cell_type": "markdown",
   "metadata": {},
   "source": [
    "## Loops and Logical Statements"
   ]
  },
  {
   "cell_type": "markdown",
   "metadata": {},
   "source": [
    "We briefly saw the use of logical statements in the previous section. Now we will move on to loops and logical statements."
   ]
  },
  {
   "cell_type": "code",
   "execution_count": 40,
   "metadata": {},
   "outputs": [],
   "source": [
    "# Conditional Statements.\n",
    "# Conditional statements are important for control flows. The most \n",
    "# well-known would be the if statement.\n",
    "\n",
    "# if statements have the following structure:\n",
    "\n",
    "# if CONDITION:\n",
    "#    complete_action\n",
    "#\n",
    "# CONDITION - provides a condition to be checked\n",
    "# complete_action - the code that is to be executed"
   ]
  },
  {
   "cell_type": "code",
   "execution_count": 41,
   "metadata": {},
   "outputs": [
    {
     "name": "stdout",
     "output_type": "stream",
     "text": [
      "x = 6\n"
     ]
    }
   ],
   "source": [
    "x = 6\n",
    "if x < 10:\n",
    "    print('x =',x)"
   ]
  },
  {
   "cell_type": "code",
   "execution_count": 42,
   "metadata": {},
   "outputs": [],
   "source": [
    "# Elif and Else.\n",
    "# Elif - short for \"Else if\" - this allows for another condition statement following an if\n",
    "#\n",
    "# Else - if conditions are not satisfied, execute some other code\n",
    "#\n",
    "# Both elif and else follow the same structure as if"
   ]
  },
  {
   "cell_type": "code",
   "execution_count": 43,
   "metadata": {},
   "outputs": [
    {
     "name": "stdout",
     "output_type": "stream",
     "text": [
      "Extra Credit Achievement Unlocked!\n"
     ]
    }
   ],
   "source": [
    "x = 11\n",
    "if x < 10:\n",
    "    print(x)\n",
    "elif x == 10:\n",
    "    print('Perfect score!')\n",
    "else:\n",
    "    print('Extra Credit Achievement Unlocked!')"
   ]
  },
  {
   "cell_type": "markdown",
   "metadata": {},
   "source": [
    "Modify the code above to print only if x is greater than 100."
   ]
  },
  {
   "cell_type": "code",
   "execution_count": null,
   "metadata": {},
   "outputs": [],
   "source": []
  },
  {
   "cell_type": "code",
   "execution_count": 44,
   "metadata": {},
   "outputs": [],
   "source": [
    "# For-loops.\n",
    "# For-loops have the following structure:\n",
    "# \n",
    "# for i in RANGE:\n",
    "#   complete_action\n",
    "#\n",
    "# i - the counter in a for-loop and can be incorporated into \n",
    "# complete_action\n",
    "#\n",
    "# RANGE - provides a range for the number of times complete_action is run\n",
    "#\n",
    "# complete_action - the code that is to be executed until i (the counter)\n",
    "# reaches the maximum number of times.\n",
    "# \n",
    "# Let's see an example"
   ]
  },
  {
   "cell_type": "markdown",
   "metadata": {},
   "source": [
    "### NOTE: Python is 0-indexed (unlike R), so keep this in mind when writing loops, accessing elements, etc."
   ]
  },
  {
   "cell_type": "code",
   "execution_count": 45,
   "metadata": {},
   "outputs": [
    {
     "name": "stdout",
     "output_type": "stream",
     "text": [
      "0\n",
      "1\n",
      "2\n",
      "3\n"
     ]
    }
   ],
   "source": [
    "# Let us print some numbers on the screen\n",
    "for i in range(0,4):\n",
    "    print(i)"
   ]
  },
  {
   "cell_type": "code",
   "execution_count": null,
   "metadata": {},
   "outputs": [],
   "source": []
  },
  {
   "cell_type": "code",
   "execution_count": 46,
   "metadata": {},
   "outputs": [
    {
     "name": "stdout",
     "output_type": "stream",
     "text": [
      "0\n",
      "1\n",
      "2\n",
      "3\n",
      "hello\n"
     ]
    }
   ],
   "source": [
    "# What is the difference with this loop?\n",
    "for i in range(0,4):\n",
    "    print(i)\n",
    "print('hello')"
   ]
  },
  {
   "cell_type": "code",
   "execution_count": 47,
   "metadata": {},
   "outputs": [
    {
     "name": "stdout",
     "output_type": "stream",
     "text": [
      "['apple', 'banana', 'orange', 0]\n",
      "['apple', 'banana', 'orange', 0, 1]\n",
      "['apple', 'banana', 'orange', 0, 1, 2]\n"
     ]
    }
   ],
   "source": [
    "# Let us write a for loop that appends a number to a list\n",
    "a = ['apple', 'banana', 'orange']\n",
    "for i in range(len(a)):\n",
    "    list.append(a,i)\n",
    "    print(a)"
   ]
  },
  {
   "cell_type": "code",
   "execution_count": 48,
   "metadata": {},
   "outputs": [
    {
     "data": {
      "text/plain": [
       "tuple"
      ]
     },
     "execution_count": 48,
     "metadata": {},
     "output_type": "execute_result"
    }
   ],
   "source": [
    "test = (1,'apple')\n",
    "type(test)"
   ]
  },
  {
   "cell_type": "code",
   "execution_count": 49,
   "metadata": {},
   "outputs": [
    {
     "data": {
      "text/plain": [
       "range(2, 11)"
      ]
     },
     "execution_count": 49,
     "metadata": {},
     "output_type": "execute_result"
    }
   ],
   "source": [
    "range(2,11)"
   ]
  },
  {
   "cell_type": "markdown",
   "metadata": {},
   "source": [
    "Try to write a for-loop that prints the binary form of 2 - 10"
   ]
  },
  {
   "cell_type": "code",
   "execution_count": null,
   "metadata": {},
   "outputs": [],
   "source": []
  },
  {
   "cell_type": "code",
   "execution_count": 50,
   "metadata": {},
   "outputs": [
    {
     "name": "stdout",
     "output_type": "stream",
     "text": [
      "Help on built-in function bin in module builtins:\n",
      "\n",
      "bin(number, /)\n",
      "    Return the binary representation of an integer.\n",
      "    \n",
      "    >>> bin(2796202)\n",
      "    '0b1010101010101010101010'\n",
      "\n"
     ]
    }
   ],
   "source": [
    "help(bin)"
   ]
  },
  {
   "cell_type": "code",
   "execution_count": 51,
   "metadata": {},
   "outputs": [],
   "source": [
    "# While-loops.\n",
    "# While-loops have the following structure:\n",
    "# \n",
    "# while EXPRESSION:\n",
    "#   complete_action\n",
    "#\n",
    "# EXPRESSION - provides a range (or a condition) \n",
    "# for the number of times complete_action is run\n",
    "#\n",
    "# complete_action - the code that is to be executed until i (the counter)\n",
    "# reaches the maximum number of times.\n",
    "# \n",
    "# Let's see an example"
   ]
  },
  {
   "cell_type": "code",
   "execution_count": 52,
   "metadata": {},
   "outputs": [
    {
     "name": "stdout",
     "output_type": "stream",
     "text": [
      "10\n"
     ]
    }
   ],
   "source": [
    "y = 1\n",
    "while y < 10:\n",
    "    y = y + 1\n",
    "    # y += 1 # this increments y by 1 each time\n",
    "print(y) # What value of y should be printed?"
   ]
  },
  {
   "cell_type": "markdown",
   "metadata": {},
   "source": [
    "Recall that the Fibonacci numbers are of the form $$F_n = F_{n-1} + F_{n-2},$$\n",
    "where $F_0 = 0, F_1 = 1$."
   ]
  },
  {
   "cell_type": "code",
   "execution_count": 53,
   "metadata": {},
   "outputs": [
    {
     "name": "stdout",
     "output_type": "stream",
     "text": [
      "0 1 1 2 3 5 8 13 21 34 55 89 144 233 377 610 "
     ]
    }
   ],
   "source": [
    "# Let's write a while loop to calculate the Fibonacci numbers up to a certain point\n",
    "fn2 = 0 # f0\n",
    "fn1 = 1 # f1\n",
    "fnew = 0 # initialize fn\n",
    "n = 800 # boundary\n",
    "\n",
    "while fnew < n:\n",
    "    print(fnew, end=' ') # print the fib number separated by spaces instead of newlines\n",
    "    fnew = fn1 + fn2 # calculate the new fib number\n",
    "    fn1 = fn2 # set the new value for f_{n-1}\n",
    "    fn2 = fnew # set the new value for f_{n-2}"
   ]
  },
  {
   "cell_type": "code",
   "execution_count": 54,
   "metadata": {},
   "outputs": [],
   "source": [
    "#help(print)"
   ]
  },
  {
   "cell_type": "markdown",
   "metadata": {},
   "source": [
    "We can also think of writing calculating the nth Fibonacci number in a function, recursively. For example, \n",
    "\n",
    "$$ F(n) = F(n-1) + F(n-2) $$ "
   ]
  },
  {
   "cell_type": "code",
   "execution_count": 55,
   "metadata": {},
   "outputs": [],
   "source": [
    "# Function to calculate the nth Fibonacci number\n",
    "def fib(n):\n",
    "    if n < 2:\n",
    "        return n\n",
    "    return fib(n-1) + fib(n-2)"
   ]
  },
  {
   "cell_type": "code",
   "execution_count": 56,
   "metadata": {},
   "outputs": [
    {
     "data": {
      "text/plain": [
       "-3"
      ]
     },
     "execution_count": 56,
     "metadata": {},
     "output_type": "execute_result"
    }
   ],
   "source": [
    "# What happens if n is negative?\n",
    "fib(-3)"
   ]
  },
  {
   "cell_type": "code",
   "execution_count": 57,
   "metadata": {},
   "outputs": [],
   "source": [
    "# Function to calculate the nth Fibonacci number\n",
    "def fib_better(n):\n",
    "    if n < 2 and n >= 0:\n",
    "        return n\n",
    "    elif n < 0:\n",
    "        print(\"The number you input is negative!\")\n",
    "    return fib(n-1) + fib(n-2)"
   ]
  },
  {
   "cell_type": "code",
   "execution_count": 58,
   "metadata": {},
   "outputs": [
    {
     "name": "stdout",
     "output_type": "stream",
     "text": [
      "The number you input is negative!\n"
     ]
    },
    {
     "data": {
      "text/plain": [
       "-5"
      ]
     },
     "execution_count": 58,
     "metadata": {},
     "output_type": "execute_result"
    }
   ],
   "source": [
    "fib_better(-1) # what's wrong with this?"
   ]
  },
  {
   "cell_type": "code",
   "execution_count": 59,
   "metadata": {},
   "outputs": [],
   "source": [
    "def fib_best(n):\n",
    "    if n < 2 and n >= 0:\n",
    "        return n\n",
    "    elif n < 0:\n",
    "        raise NameError('The number you input is negative!')\n",
    "    return fib(n-1) + fib(n-2)"
   ]
  },
  {
   "cell_type": "code",
   "execution_count": 60,
   "metadata": {},
   "outputs": [
    {
     "ename": "NameError",
     "evalue": "The number you input is negative!",
     "output_type": "error",
     "traceback": [
      "\u001b[0;31m---------------------------------------------------------------------------\u001b[0m",
      "\u001b[0;31mNameError\u001b[0m                                 Traceback (most recent call last)",
      "\u001b[0;32m<ipython-input-60-ea28953c0138>\u001b[0m in \u001b[0;36m<module>\u001b[0;34m()\u001b[0m\n\u001b[0;32m----> 1\u001b[0;31m \u001b[0mfib_best\u001b[0m\u001b[0;34m(\u001b[0m\u001b[0;34m-\u001b[0m\u001b[0;36m1\u001b[0m\u001b[0;34m)\u001b[0m\u001b[0;34m\u001b[0m\u001b[0m\n\u001b[0m",
      "\u001b[0;32m<ipython-input-59-47675290f1d9>\u001b[0m in \u001b[0;36mfib_best\u001b[0;34m(n)\u001b[0m\n\u001b[1;32m      3\u001b[0m         \u001b[0;32mreturn\u001b[0m \u001b[0mn\u001b[0m\u001b[0;34m\u001b[0m\u001b[0m\n\u001b[1;32m      4\u001b[0m     \u001b[0;32melif\u001b[0m \u001b[0mn\u001b[0m \u001b[0;34m<\u001b[0m \u001b[0;36m0\u001b[0m\u001b[0;34m:\u001b[0m\u001b[0;34m\u001b[0m\u001b[0m\n\u001b[0;32m----> 5\u001b[0;31m         \u001b[0;32mraise\u001b[0m \u001b[0mNameError\u001b[0m\u001b[0;34m(\u001b[0m\u001b[0;34m'The number you input is negative!'\u001b[0m\u001b[0;34m)\u001b[0m\u001b[0;34m\u001b[0m\u001b[0m\n\u001b[0m\u001b[1;32m      6\u001b[0m     \u001b[0;32mreturn\u001b[0m \u001b[0mfib\u001b[0m\u001b[0;34m(\u001b[0m\u001b[0mn\u001b[0m\u001b[0;34m-\u001b[0m\u001b[0;36m1\u001b[0m\u001b[0;34m)\u001b[0m \u001b[0;34m+\u001b[0m \u001b[0mfib\u001b[0m\u001b[0;34m(\u001b[0m\u001b[0mn\u001b[0m\u001b[0;34m-\u001b[0m\u001b[0;36m2\u001b[0m\u001b[0;34m)\u001b[0m\u001b[0;34m\u001b[0m\u001b[0m\n",
      "\u001b[0;31mNameError\u001b[0m: The number you input is negative!"
     ]
    }
   ],
   "source": [
    "fib_best(-1)"
   ]
  },
  {
   "cell_type": "code",
   "execution_count": null,
   "metadata": {},
   "outputs": [],
   "source": []
  }
 ],
 "metadata": {
  "kernelspec": {
   "display_name": "Python 3",
   "language": "python",
   "name": "python3"
  },
  "language_info": {
   "codemirror_mode": {
    "name": "ipython",
    "version": 3
   },
   "file_extension": ".py",
   "mimetype": "text/x-python",
   "name": "python",
   "nbconvert_exporter": "python",
   "pygments_lexer": "ipython3",
   "version": "3.6.5"
  }
 },
 "nbformat": 4,
 "nbformat_minor": 2
}
