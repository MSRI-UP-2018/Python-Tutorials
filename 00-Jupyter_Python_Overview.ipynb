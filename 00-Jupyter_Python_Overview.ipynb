{
 "cells": [
  {
   "cell_type": "markdown",
   "metadata": {},
   "source": [
    "# Welcome to Jupyter Notebooks and Python!"
   ]
  },
  {
   "cell_type": "markdown",
   "metadata": {},
   "source": [
    "Jupyter notebooks (formerly IPython Notebooks) are frameworks to write reports, prototype code, and make presentations. Jupyter can run different kernels (i.e. programming languages) like C++, Julia, R, etc. For the rest of this tutorial, we focus on using Python 3.6.*"
   ]
  },
  {
   "cell_type": "markdown",
   "metadata": {},
   "source": [
    "Jupyter notebooks can also be used to typeset $\\LaTeX$, as below\n",
    "\n",
    "$$f(x) = \\sum\\limits^{\\infty}_{n=0} a_n (x - b)^n.$$\n",
    "\n",
    "You can also make presentations on your group's research progress in Jupyter notebooks. "
   ]
  },
  {
   "cell_type": "markdown",
   "metadata": {},
   "source": [
    "## Best practices"
   ]
  },
  {
   "cell_type": "markdown",
   "metadata": {},
   "source": [
    "1) For coding environments, provide detailed comments for interpretability and reproducibility. This will also help the future you when you come back to past assignments/code.\n",
    "\n",
    "2) Read the error message when your code does not work. They contain important information on how to debug your code.\n",
    "\n",
    "3) If you do something more than twice, automate that action.\n",
    "\n",
    "4) Write code that works first, then optimize! \n",
    "\n",
    "5) Notebooks can be split if they get too long. You want to be able to come back to a notebook without too much trouble and searching."
   ]
  },
  {
   "cell_type": "markdown",
   "metadata": {},
   "source": [
    "## Overview"
   ]
  },
  {
   "cell_type": "markdown",
   "metadata": {},
   "source": [
    "Python is a dynamic, interpreted language. Variables do not need to be declared and the code does not need to be compiled. In short, the Python interpreter will attempt to make sense of your code and will raise an error if something goes wrong.\n",
    "\n",
    "In Python, comments in code start with a #. In Jupyter notebooks, you also have the option of making it cell a Markdown cell.\n",
    "\n",
    "Below, try making 1) a comment cell and 2) a Markdown cell."
   ]
  },
  {
   "cell_type": "code",
   "execution_count": null,
   "metadata": {},
   "outputs": [],
   "source": []
  },
  {
   "cell_type": "code",
   "execution_count": null,
   "metadata": {},
   "outputs": [],
   "source": []
  },
  {
   "cell_type": "markdown",
   "metadata": {},
   "source": [
    "Now make a Markdown cell with some $\\LaTeX$ code!"
   ]
  },
  {
   "cell_type": "code",
   "execution_count": null,
   "metadata": {},
   "outputs": [],
   "source": []
  },
  {
   "cell_type": "markdown",
   "metadata": {},
   "source": [
    "## Checking Python kernel"
   ]
  },
  {
   "cell_type": "markdown",
   "metadata": {},
   "source": [
    "Python incorporates the use of modules (or libraries) to access certain functions and tools. We will begin by checking which version of Python we are running. "
   ]
  },
  {
   "cell_type": "code",
   "execution_count": null,
   "metadata": {},
   "outputs": [],
   "source": [
    "# How do I know which version of python I am running?\n",
    "# First, we import sys. This is a library that lets you query/ask system version information.\n",
    "#\n",
    "# **If collaborating on a project, it is crucial to use the same version number of a particular\n",
    "# programming language.\n",
    "\n",
    "import sys\n",
    "sys.version"
   ]
  },
  {
   "cell_type": "code",
   "execution_count": null,
   "metadata": {},
   "outputs": [],
   "source": [
    "# Note that we should see 3.6.* as the version of python. \n",
    "# This is followed by the Anaconda version."
   ]
  },
  {
   "cell_type": "markdown",
   "metadata": {},
   "source": [
    "Next, we will explore how to see help menu for functions. There are some functions available already built in. Some of these include\n",
    "\n",
    "1) abs( ) - returns the absolute value \n",
    "\n",
    "2) round( ) - rounds the number to the nearest integer \n",
    "\n",
    "3) bin( ) - converts the number into binary\n",
    "\n",
    "4) print( ) - prints given object to screen\n",
    "\n",
    "5) help( ) - provides help for functions"
   ]
  },
  {
   "cell_type": "code",
   "execution_count": null,
   "metadata": {},
   "outputs": [],
   "source": [
    "# Let us use 1-3 below as an example\n",
    "abs(-100)\n",
    "round(-100.1)\n",
    "bin(100)"
   ]
  },
  {
   "cell_type": "markdown",
   "metadata": {},
   "source": [
    "Notice the output printed to the screen. We can use the $\\verb+print()+$ function to address this issue below"
   ]
  },
  {
   "cell_type": "code",
   "execution_count": null,
   "metadata": {
    "scrolled": true
   },
   "outputs": [],
   "source": [
    "print(abs(-100))\n",
    "print(round(-100.1))\n",
    "print(bin(100))"
   ]
  },
  {
   "cell_type": "code",
   "execution_count": null,
   "metadata": {},
   "outputs": [],
   "source": [
    "# NOTE: print(bin(100)) prints the value of bin(100) and\n",
    "# bin(100) prints the output of the function\n",
    "# Example\n",
    "\n",
    "abs(-100)+100 # works since it is the sum of 100 and 100."
   ]
  },
  {
   "cell_type": "markdown",
   "metadata": {},
   "source": [
    "What happens if you try $\\texttt{ print(abs(-100)) + 100}$?"
   ]
  },
  {
   "cell_type": "code",
   "execution_count": null,
   "metadata": {},
   "outputs": [],
   "source": []
  },
  {
   "cell_type": "code",
   "execution_count": 127,
   "metadata": {},
   "outputs": [
    {
     "name": "stdout",
     "output_type": "stream",
     "text": [
      "<class 'int'>\n",
      "<class 'float'>\n"
     ]
    }
   ],
   "source": [
    "# Data types. Use the function type() to investigate the type of the python object\n",
    "print(type(100))\n",
    "print(type(100.0))"
   ]
  },
  {
   "cell_type": "markdown",
   "metadata": {},
   "source": [
    "## Python Data Structures"
   ]
  },
  {
   "cell_type": "markdown",
   "metadata": {},
   "source": [
    "Variables and functions. \n",
    "\n",
    "Variables, just as in mathematics, are placeholders for values assigned to them. Functions, on the other hand, take input (like variables) and output the result of applying certain rules to the input."
   ]
  },
  {
   "cell_type": "code",
   "execution_count": null,
   "metadata": {},
   "outputs": [],
   "source": [
    "# Define two variables and add them"
   ]
  },
  {
   "cell_type": "code",
   "execution_count": null,
   "metadata": {},
   "outputs": [],
   "source": [
    "# Using variables as input to a function"
   ]
  },
  {
   "cell_type": "code",
   "execution_count": null,
   "metadata": {},
   "outputs": [],
   "source": [
    "# Multiply two variables, and save as another variable"
   ]
  },
  {
   "cell_type": "code",
   "execution_count": null,
   "metadata": {},
   "outputs": [],
   "source": [
    "# Raise one variable to the power of another variable\n",
    "# What is 2 to the 16th power?"
   ]
  },
  {
   "cell_type": "code",
   "execution_count": null,
   "metadata": {},
   "outputs": [],
   "source": [
    "# Divide two variables and output the remainder only \n",
    "# (13 divided by 5 = 2 with 3 leftover)"
   ]
  },
  {
   "cell_type": "code",
   "execution_count": null,
   "metadata": {},
   "outputs": [],
   "source": [
    "# Compare two variables\n",
    "# Is 3 greater than 4?"
   ]
  },
  {
   "cell_type": "markdown",
   "metadata": {},
   "source": [
    "Lists and strings.\n",
    "\n",
    "We now shift our focus to other data structures, lists and strings. Strings, lists, and tuples are all sequence types are ordered collection of objects. Lists are enclosed in square brackets ([ and ]) and tuples in parentheses (( and )).\n",
    "\n",
    "Lists are mutable (can be changed) and tuples are immutable (cannot be changed).\n",
    "\n",
    "** NOTE: Python is 0-indexed (unlike R), so keep this in mind when writing loops, accessing elements, etc."
   ]
  },
  {
   "cell_type": "code",
   "execution_count": 128,
   "metadata": {},
   "outputs": [],
   "source": [
    "a = 'mystring'"
   ]
  },
  {
   "cell_type": "code",
   "execution_count": 129,
   "metadata": {},
   "outputs": [
    {
     "name": "stdout",
     "output_type": "stream",
     "text": [
      "mystring\n"
     ]
    }
   ],
   "source": [
    "print(a)"
   ]
  },
  {
   "cell_type": "code",
   "execution_count": 149,
   "metadata": {},
   "outputs": [],
   "source": [
    "list_num = [1,2,3,4,5,6]\n",
    "tup_num = (1,2,3,4,5,6)\n",
    "# check the type of these data structures and explore their differences"
   ]
  },
  {
   "cell_type": "code",
   "execution_count": 148,
   "metadata": {},
   "outputs": [
    {
     "name": "stdout",
     "output_type": "stream",
     "text": [
      "The first fruit on the list is apples.\n",
      "['apples', 'bananas', 'oranges', 'strawberries']\n",
      "4\n"
     ]
    }
   ],
   "source": [
    "# let's make a list of fruits and print the first item in the list\n",
    "fruits = ['apples', 'bananas', 'oranges']\n",
    "print('The first fruit on the list is ' + fruits[0] + '.')\n",
    "# Next we will append to this list a new item\n",
    "fruits.append('strawberries')\n",
    "print(fruits)\n",
    "# Let's check the length of this list with the len() function\n",
    "print(len(fruits))"
   ]
  },
  {
   "cell_type": "code",
   "execution_count": 146,
   "metadata": {},
   "outputs": [
    {
     "data": {
      "text/plain": [
       "3.99"
      ]
     },
     "execution_count": 146,
     "metadata": {},
     "output_type": "execute_result"
    }
   ],
   "source": [
    "# let's make a tuple of prices\n",
    "prices = (3.99, 6.00, 10.00, 5.25)\n",
    "prices[0]"
   ]
  },
  {
   "cell_type": "markdown",
   "metadata": {},
   "source": [
    "Writing functions.\n",
    "\n",
    "Now that we have an idea of some of the data structures, we will use them\n",
    "as input into our own functions."
   ]
  },
  {
   "cell_type": "code",
   "execution_count": null,
   "metadata": {},
   "outputs": [],
   "source": [
    "# Functions.\n",
    "# Functions have the following structure:\n",
    "#\n",
    "# def myfun(input):\n",
    "#    input operations\n",
    "#    return output\n",
    "#\n",
    "# Let's try to make one of our own"
   ]
  },
  {
   "cell_type": "code",
   "execution_count": 102,
   "metadata": {},
   "outputs": [],
   "source": [
    "def sumfun(a,b):\n",
    "    out = a + b\n",
    "    return out\n",
    "# we can also write it as\n",
    "# def sumfun(a,b):\n",
    "#    return a+b"
   ]
  },
  {
   "cell_type": "code",
   "execution_count": 105,
   "metadata": {},
   "outputs": [],
   "source": [
    "# What happens when you try to run sumfun(a,b)?"
   ]
  },
  {
   "cell_type": "code",
   "execution_count": 120,
   "metadata": {},
   "outputs": [],
   "source": [
    "# myname is a function that prints out \"Hello Mario\". This function does not take any inputs\n",
    "def myname():\n",
    "    print('Hello Mario!')"
   ]
  },
  {
   "cell_type": "code",
   "execution_count": 121,
   "metadata": {},
   "outputs": [
    {
     "name": "stdout",
     "output_type": "stream",
     "text": [
      "Hello Mario!\n"
     ]
    }
   ],
   "source": [
    "myname()"
   ]
  },
  {
   "cell_type": "code",
   "execution_count": 122,
   "metadata": {},
   "outputs": [],
   "source": [
    "# Let's make the function a little more universal, so anyone can put their name!"
   ]
  },
  {
   "cell_type": "code",
   "execution_count": 123,
   "metadata": {},
   "outputs": [],
   "source": [
    "def myhello(person):\n",
    "    print('Hello ' + person + '!')"
   ]
  },
  {
   "cell_type": "code",
   "execution_count": 124,
   "metadata": {},
   "outputs": [
    {
     "name": "stdout",
     "output_type": "stream",
     "text": [
      "Hello Mario!\n"
     ]
    }
   ],
   "source": [
    "myhello('Mario')"
   ]
  },
  {
   "cell_type": "markdown",
   "metadata": {},
   "source": [
    "Try the following exercises on your own:\n",
    "\n",
    "1) Write a function that takes two inputs (a and b) and outputs a^b + b.\n",
    "\n",
    "2) Write a function that takes no inputs and prints \"Your code has finished!\""
   ]
  },
  {
   "cell_type": "markdown",
   "metadata": {},
   "source": [
    "## Loops and Logical Statements"
   ]
  },
  {
   "cell_type": "markdown",
   "metadata": {},
   "source": [
    "We briefly saw the use of logical statements in the previous section. Now we will move on to loops and logical statements."
   ]
  },
  {
   "cell_type": "code",
   "execution_count": 3,
   "metadata": {},
   "outputs": [],
   "source": [
    "# Conditional Statements.\n",
    "# Conditional statements are important for control flows. The most \n",
    "# well-known would be the if statement.\n",
    "\n",
    "# if statements have the following structure:\n",
    "\n",
    "# if CONDITION \n",
    "#    complete_action\n",
    "#\n",
    "# CONDITION - provides a condition to be checked\n",
    "# complete_action - the code that is to be executed"
   ]
  },
  {
   "cell_type": "code",
   "execution_count": 10,
   "metadata": {},
   "outputs": [],
   "source": [
    "x = 10\n",
    "if x < 10:\n",
    "    print(x)"
   ]
  },
  {
   "cell_type": "code",
   "execution_count": null,
   "metadata": {},
   "outputs": [],
   "source": [
    "# Elif and Else.\n",
    "# Elif - short for \"Else if\" - this allows for another condition statement following an if\n",
    "#\n",
    "# Else - if conditions are not satisfied, execute some other code\n",
    "#\n",
    "# Both elif and else follow the same structure as if"
   ]
  },
  {
   "cell_type": "code",
   "execution_count": 11,
   "metadata": {},
   "outputs": [
    {
     "name": "stdout",
     "output_type": "stream",
     "text": [
      "Perfect score!\n"
     ]
    }
   ],
   "source": [
    "x = 10\n",
    "if x < 10:\n",
    "    print(x)\n",
    "elif x == 10:\n",
    "    print('Perfect score!')\n",
    "else:\n",
    "    print('try again')"
   ]
  },
  {
   "cell_type": "markdown",
   "metadata": {},
   "source": [
    "Modify the code above to print only if x is greater than 100."
   ]
  },
  {
   "cell_type": "code",
   "execution_count": null,
   "metadata": {},
   "outputs": [],
   "source": []
  },
  {
   "cell_type": "code",
   "execution_count": null,
   "metadata": {},
   "outputs": [],
   "source": [
    "# For-loops.\n",
    "# For-loops have the following structure:\n",
    "# \n",
    "# for i in RANGE:\n",
    "#   complete_action\n",
    "#\n",
    "# i - the counter in a for-loop and can be incorporated into \n",
    "# complete_action\n",
    "#\n",
    "# RANGE - provides a range for the number of times complete_action is run\n",
    "#\n",
    "# complete_action - the code that is to be executed until i (the counter)\n",
    "# reaches the maximum number of times.\n",
    "# \n",
    "# Let's see an example"
   ]
  },
  {
   "cell_type": "markdown",
   "metadata": {},
   "source": [
    "### NOTE: Python is 0-indexed (unlike R), so keep this in mind when writing loops, accessing elements, etc."
   ]
  },
  {
   "cell_type": "code",
   "execution_count": null,
   "metadata": {},
   "outputs": [],
   "source": [
    "# Let us print some numbers on the screen\n",
    "for i in range(0,4):\n",
    "    print(i)"
   ]
  },
  {
   "cell_type": "code",
   "execution_count": null,
   "metadata": {},
   "outputs": [],
   "source": [
    "# What is the difference with this loop?\n",
    "for i in range(0,4):\n",
    "    print(i)\n",
    "print('hello')"
   ]
  },
  {
   "cell_type": "code",
   "execution_count": null,
   "metadata": {},
   "outputs": [],
   "source": [
    "# Let us write a for loop that appends a number to a list\n",
    "a = ['apple', 'banana', 'orange']\n",
    "for i in range(0,3):\n",
    "    list.append(a,i)\n",
    "    print(a)"
   ]
  },
  {
   "cell_type": "code",
   "execution_count": null,
   "metadata": {},
   "outputs": [],
   "source": [
    "help(range)"
   ]
  },
  {
   "cell_type": "markdown",
   "metadata": {},
   "source": [
    "Try to write a for-loop that prints the binary form of 2 - 10"
   ]
  },
  {
   "cell_type": "code",
   "execution_count": null,
   "metadata": {},
   "outputs": [],
   "source": []
  },
  {
   "cell_type": "code",
   "execution_count": null,
   "metadata": {},
   "outputs": [],
   "source": [
    "help(bin)"
   ]
  },
  {
   "cell_type": "code",
   "execution_count": null,
   "metadata": {},
   "outputs": [],
   "source": [
    "# While-loops.\n",
    "# While-loops have the following structure:\n",
    "# \n",
    "# while EXPRESSION:\n",
    "#   complete_action\n",
    "#\n",
    "# EXPRESSION - provides a range for the number of times complete_action is run\n",
    "#\n",
    "# complete_action - the code that is to be executed until i (the counter)\n",
    "# reaches the maximum number of times.\n",
    "# \n",
    "# Let's see an example"
   ]
  },
  {
   "cell_type": "code",
   "execution_count": 15,
   "metadata": {},
   "outputs": [],
   "source": [
    "y = 1\n",
    "while y < 10:\n",
    "    y = y + 1\n",
    "#print(y) # What value of y should be printed?"
   ]
  },
  {
   "cell_type": "markdown",
   "metadata": {},
   "source": [
    "Recall that the Fibonacci numbers are of the form $$F_n = F_{n-1} + F_{n-2},$$\n",
    "where $F_0 = 0, F_1 = 1$."
   ]
  },
  {
   "cell_type": "code",
   "execution_count": 61,
   "metadata": {},
   "outputs": [
    {
     "name": "stdout",
     "output_type": "stream",
     "text": [
      "0 1 1 2 3 5 8 13 21 34 55 89 144 233 377 610 "
     ]
    }
   ],
   "source": [
    "# Let's write a while loop to calculate the Fibonacci numbers up to a certain point\n",
    "fn2 = 0 # f0\n",
    "fn1 = 1 # f1\n",
    "fnew = 0 # initialize fn\n",
    "n = 800 # boundary\n",
    "\n",
    "while fnew < n:\n",
    "    print(fnew, end=' ') # print the fib number separated by spaces instead of newlines\n",
    "    fnew = fn1 + fn2 # calculate the new fib number\n",
    "    fn1 = fn2 # set the new value for f_{n-1}\n",
    "    fn2 = fnew # set the new value for f_{n-2}"
   ]
  },
  {
   "cell_type": "code",
   "execution_count": 35,
   "metadata": {},
   "outputs": [
    {
     "name": "stdout",
     "output_type": "stream",
     "text": [
      "Help on built-in function print in module builtins:\n",
      "\n",
      "print(...)\n",
      "    print(value, ..., sep=' ', end='\\n', file=sys.stdout, flush=False)\n",
      "    \n",
      "    Prints the values to a stream, or to sys.stdout by default.\n",
      "    Optional keyword arguments:\n",
      "    file:  a file-like object (stream); defaults to the current sys.stdout.\n",
      "    sep:   string inserted between values, default a space.\n",
      "    end:   string appended after the last value, default a newline.\n",
      "    flush: whether to forcibly flush the stream.\n",
      "\n"
     ]
    }
   ],
   "source": [
    "help(print)"
   ]
  },
  {
   "cell_type": "markdown",
   "metadata": {},
   "source": [
    "We can also think of writing calculating the nth Fibonacci number in a function, recursively. For example, \n",
    "\n",
    "$$ F(n) = F(n-1) + F(n-2) $$ "
   ]
  },
  {
   "cell_type": "code",
   "execution_count": 151,
   "metadata": {},
   "outputs": [],
   "source": [
    "# Function to calculate the nth Fibonacci number\n",
    "def fib(n):\n",
    "    if n < 2:\n",
    "        return n\n",
    "    return fib(n-1) + fib(n-2)"
   ]
  },
  {
   "cell_type": "code",
   "execution_count": 152,
   "metadata": {},
   "outputs": [],
   "source": [
    "# What happens if n is negative?"
   ]
  },
  {
   "cell_type": "code",
   "execution_count": null,
   "metadata": {},
   "outputs": [],
   "source": []
  }
 ],
 "metadata": {
  "kernelspec": {
   "display_name": "Python 3",
   "language": "python",
   "name": "python3"
  },
  "language_info": {
   "codemirror_mode": {
    "name": "ipython",
    "version": 3
   },
   "file_extension": ".py",
   "mimetype": "text/x-python",
   "name": "python",
   "nbconvert_exporter": "python",
   "pygments_lexer": "ipython3",
   "version": "3.6.5"
  }
 },
 "nbformat": 4,
 "nbformat_minor": 2
}
